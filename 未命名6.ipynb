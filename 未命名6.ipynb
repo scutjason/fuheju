{
 "cells": [
  {
   "cell_type": "code",
   "execution_count": 127,
   "metadata": {},
   "outputs": [],
   "source": [
    "import requests\n",
    "import json\n",
    "import pickle\n",
    "import time"
   ]
  },
  {
   "cell_type": "code",
   "execution_count": 121,
   "metadata": {},
   "outputs": [
    {
     "data": {
      "text/plain": [
       "'aaaa'"
      ]
     },
     "execution_count": 121,
     "metadata": {},
     "output_type": "execute_result"
    }
   ],
   "source": [
    "def save_pickle(data, path):\n",
    "    f = open(path, 'wb')\n",
    "    pickle.dump(data, f)\n",
    "    f.close()\n",
    "    \n",
    "def load_pickle(path):\n",
    "    f1 = open(path, 'rb')\n",
    "    data = pickle.load(f1)\n",
    "    f1.close()\n",
    "    return data\n",
    "save_pickle('aaaa', 'data/a.pkl')\n",
    "load_pickle('data/a.pkl')"
   ]
  },
  {
   "cell_type": "code",
   "execution_count": 141,
   "metadata": {},
   "outputs": [
    {
     "name": "stdout",
     "output_type": "stream",
     "text": [
      "|\u001b[31m###\u001b[0m\u001b[31m###\u001b[0m\u001b[31m###\u001b[0m\u001b[31m###\u001b[0m\u001b[31m###\u001b[0m\u001b[31m###\u001b[0m\u001b[31m###\u001b[0m\u001b[31m###\u001b[0m\u001b[31m###\u001b[0m\u001b[31m###\u001b[0m 100.0%|100%"
     ]
    }
   ],
   "source": [
    "def process_bar(percent, total_length=10, start_str='|', end_str='100%'):\n",
    "    bar = ''.join([\"\\033[31m%s\\033[0m\"%'###'] * int(percent * total_length)) + ''\n",
    "    bar = '\\r' + start_str + bar.ljust(total_length) + ' {:0>4.1f}%|'.format(percent*100) + end_str\n",
    "    print(bar, end='', flush=True)\n",
    " \n",
    " \n",
    "for i in range(101):\n",
    "    time.sleep(0.1)\n",
    "    process_bar(i/100)"
   ]
  },
  {
   "cell_type": "code",
   "execution_count": 21,
   "metadata": {},
   "outputs": [],
   "source": [
    "headers = {\n",
    "    \"Host\": \"m.weibo.cn\",\n",
    "    \"Referer\": \"https://m.weibo.cn/p/230413\",\n",
    "    \"User-Agent\": \"Mozilla/5.0 (Windows NT 10.0; Win64; x64) AppleWebKit/537.36 (KHTML, like Gecko) Chrome/70.0.3538.110 Safari/537.36\",\n",
    "    \"X-Requested-with\": \"XMLHttpRequest\"\n",
    "}\n",
    "data = 'ner'"
   ]
  },
  {
   "cell_type": "code",
   "execution_count": 108,
   "metadata": {},
   "outputs": [
    {
     "data": {
      "text/plain": [
       "5"
      ]
     },
     "execution_count": 108,
     "metadata": {},
     "output_type": "execute_result"
    }
   ],
   "source": [
    "# 获取微博页数\n",
    "uid = \"6569231942\"\n",
    "url = \"https://m.weibo.cn/profile/info?uid={0}\".format(uid)\n",
    "headers['Referer'] = \"https://m.weibo.cn/profile/{0}\".format(uid)\n",
    "try:\n",
    "    response = requests.get(url, headers)\n",
    "    if response.status_code==200:\n",
    "        content = response.json()\n",
    "        page_count = content['data']['user']['statuses_count'] // 10 + 1\n",
    "except requests.ConnectionError as e:\n",
    "    print(\"error\",e.args)\n",
    "page_count"
   ]
  },
  {
   "cell_type": "code",
   "execution_count": null,
   "metadata": {},
   "outputs": [],
   "source": []
  },
  {
   "cell_type": "code",
   "execution_count": 122,
   "metadata": {},
   "outputs": [
    {
     "name": "stderr",
     "output_type": "stream",
     "text": [
      "/opt/anaconda3/lib/python3.7/site-packages/cryptography/hazmat/backends/openssl/x509.py:18: CryptographyDeprecationWarning: This version of cryptography contains a temporary pyOpenSSL fallback path. Upgrade pyOpenSSL now.\n",
      "  utils.DeprecatedIn35,\n"
     ]
    }
   ],
   "source": [
    "def getPageJson(uid, page):\n",
    "    \n",
    "    url = \"https://m.weibo.cn/api/container/getIndex?containerid=230413{0}&\".format(uid)\n",
    "    headers['Referer'] = headers['Referer'] + uid\n",
    "    \n",
    "    \"\"\"\n",
    "    获取单个页面的json数据\n",
    "    :param page:传入的page参数\n",
    "    :return:返回页面响应的json数据\n",
    "    \"\"\"\n",
    "    url = url + \"page=%d\"%page\n",
    "    try:\n",
    "        response = requests.get(url, headers)\n",
    "        if response.status_code==200:\n",
    "            return response.json()\n",
    "    except requests.ConnectionError as e:\n",
    "        print(\"error\",e.args)\n",
    "page_idx = 5\n",
    "page_json = getPageJson('6569231942', page_idx)  # 散0207"
   ]
  },
  {
   "cell_type": "code",
   "execution_count": 123,
   "metadata": {
    "collapsed": true,
    "jupyter": {
     "outputs_hidden": true
    }
   },
   "outputs": [
    {
     "name": "stdout",
     "output_type": "stream",
     "text": [
      "{'pid': '006AfEgvgy1gkx3bnei62j31pn2nje87', 'url': 'https://wx1.sinaimg.cn/large/006AfEgvgy1gkx3bnei62j31pn2nje87.jpg'}\n",
      "{'pid': '006AfEgvgy1gkx3bt3wapj31qr2qv7wo', 'url': 'https://wx3.sinaimg.cn/large/006AfEgvgy1gkx3bt3wapj31qr2qv7wo.jpg'}\n",
      "{'pid': '006AfEgvgy1gkx398qxnsj31i22e9b2d', 'url': 'https://wx2.sinaimg.cn/large/006AfEgvgy1gkx398qxnsj31i22e9b2d.jpg'}\n",
      "{'pid': '006AfEgvgy1gkx3bykn4ij31rk2tpe87', 'url': 'https://wx2.sinaimg.cn/large/006AfEgvgy1gkx3bykn4ij31rk2tpe87.jpg'}\n",
      "{'pid': '006AfEgvgy1gkx3cobtpgj31t32vdqvc', 'url': 'https://wx3.sinaimg.cn/large/006AfEgvgy1gkx3cobtpgj31t32vdqvc.jpg'}\n",
      "{'pid': '006AfEgvgy1gkx3cvxt70j320k340x6v', 'url': 'https://wx2.sinaimg.cn/large/006AfEgvgy1gkx3cvxt70j320k340x6v.jpg'}\n",
      "{'pid': '006AfEgvgy1gkx3d38955j31yr340x6w', 'url': 'https://wx3.sinaimg.cn/large/006AfEgvgy1gkx3d38955j31yr340x6w.jpg'}\n",
      "{'pid': '006AfEgvgy1gkx3d9q4b9j3200340e88', 'url': 'https://wx1.sinaimg.cn/large/006AfEgvgy1gkx3d9q4b9j3200340e88.jpg'}\n",
      "{'pid': '006AfEgvgy1gkx3dgdi62j31r52tp4qv', 'url': 'https://wx4.sinaimg.cn/large/006AfEgvgy1gkx3dgdi62j31r52tp4qv.jpg'}\n",
      "{'pid': '006AfEgvgy1gkxu2fuih6j31ye2y0npk', 'url': 'https://wx1.sinaimg.cn/large/006AfEgvgy1gkxu2fuih6j31ye2y0npk.jpg'}\n",
      "{'pid': '006AfEgvgy1gkxu38yty0j31wj30du14', 'url': 'https://wx4.sinaimg.cn/large/006AfEgvgy1gkxu38yty0j31wj30du14.jpg'}\n",
      "{'pid': '006AfEgvgy1gkxu5hwel9j31p12l6b2f', 'url': 'https://wx1.sinaimg.cn/large/006AfEgvgy1gkxu5hwel9j31p12l6b2f.jpg'}\n",
      "{'pid': '006AfEgvgy1gkxu0zdo35j31og2or7wn', 'url': 'https://wx1.sinaimg.cn/large/006AfEgvgy1gkxu0zdo35j31og2or7wn.jpg'}\n",
      "{'pid': '006AfEgvgy1gkxu4yb2cfj322o340kjt', 'url': 'https://wx3.sinaimg.cn/large/006AfEgvgy1gkxu4yb2cfj322o340kjt.jpg'}\n",
      "{'pid': '006AfEgvgy1gkxu3du6m1j321o3404qx', 'url': 'https://wx1.sinaimg.cn/large/006AfEgvgy1gkxu3du6m1j321o3404qx.jpg'}\n",
      "{'pid': '006AfEgvgy1gkxu3rmwwpj320w340he2', 'url': 'https://wx3.sinaimg.cn/large/006AfEgvgy1gkxu3rmwwpj320w340he2.jpg'}\n",
      "{'pid': '006AfEgvgy1gkxu4cifj1j320s340x6x', 'url': 'https://wx3.sinaimg.cn/large/006AfEgvgy1gkxu4cifj1j320s340x6x.jpg'}\n",
      "{'pid': '006AfEgvgy1gkxu42cyewj3204340u16', 'url': 'https://wx3.sinaimg.cn/large/006AfEgvgy1gkxu42cyewj3204340u16.jpg'}\n",
      "{'pid': '006AfEgvgy1gkwolt9zkpj320o340e8a', 'url': 'https://wx2.sinaimg.cn/large/006AfEgvgy1gkwolt9zkpj320o340e8a.jpg'}\n",
      "{'pid': '006AfEgvgy1gkwombtfnoj31lh2kahdy', 'url': 'https://wx2.sinaimg.cn/large/006AfEgvgy1gkwombtfnoj31lh2kahdy.jpg'}\n",
      "{'pid': '006AfEgvgy1gkwomr388pj31v22yse87', 'url': 'https://wx1.sinaimg.cn/large/006AfEgvgy1gkwomr388pj31v22yse87.jpg'}\n",
      "{'pid': '006AfEgvgy1gkwon1a53mj31zs3404qx', 'url': 'https://wx4.sinaimg.cn/large/006AfEgvgy1gkwon1a53mj31zs3404qx.jpg'}\n",
      "{'pid': '006AfEgvgy1gkwon87350j320g3401l6', 'url': 'https://wx2.sinaimg.cn/large/006AfEgvgy1gkwon87350j320g3401l6.jpg'}\n",
      "{'pid': '006AfEgvgy1gkwonhbhg4j322o25wkjq', 'url': 'https://wx2.sinaimg.cn/large/006AfEgvgy1gkwonhbhg4j322o25wkjq.jpg'}\n",
      "{'pid': '006AfEgvgy1gkwonjro18j313x1q81ky', 'url': 'https://wx3.sinaimg.cn/large/006AfEgvgy1gkwonjro18j313x1q81ky.jpg'}\n",
      "{'pid': '006AfEgvgy1gkwonnpl3ej31z0340qva', 'url': 'https://wx2.sinaimg.cn/large/006AfEgvgy1gkwonnpl3ej31z0340qva.jpg'}\n",
      "{'pid': '006AfEgvgy1gkwoo44qvcj31vj30rb2f', 'url': 'https://wx1.sinaimg.cn/large/006AfEgvgy1gkwoo44qvcj31vj30rb2f.jpg'}\n",
      "{'pid': '006AfEgvgy1g85nke73dtj320w3401l8', 'url': 'https://wx4.sinaimg.cn/large/006AfEgvgy1g85nke73dtj320w3401l8.jpg'}\n",
      "{'pid': '006AfEgvgy1g85nkj368pj31un2vpb2g', 'url': 'https://wx1.sinaimg.cn/large/006AfEgvgy1g85nkj368pj31un2vpb2g.jpg'}\n",
      "{'pid': '006AfEgvgy1g85nkmq2ejj31r22r0hdz', 'url': 'https://wx3.sinaimg.cn/large/006AfEgvgy1g85nkmq2ejj31r22r0hdz.jpg'}\n",
      "{'pid': '006AfEgvgy1g8587ujmdmj31s22ojb2f', 'url': 'https://wx3.sinaimg.cn/large/006AfEgvgy1g8587ujmdmj31s22ojb2f.jpg'}\n",
      "{'pid': '006AfEgvgy1g85nkss8xfj321c340u18', 'url': 'https://wx3.sinaimg.cn/large/006AfEgvgy1g85nkss8xfj321c340u18.jpg'}\n",
      "{'pid': '006AfEgvgy1g85nkze8ivj31xf327u18', 'url': 'https://wx4.sinaimg.cn/large/006AfEgvgy1g85nkze8ivj31xf327u18.jpg'}\n",
      "{'pid': '006AfEgvgy1g85nl3m9k7j31ry2sox6v', 'url': 'https://wx1.sinaimg.cn/large/006AfEgvgy1g85nl3m9k7j31ry2sox6v.jpg'}\n",
      "{'pid': '006AfEgvgy1g85nk7tizuj31pk2rc4qv', 'url': 'https://wx2.sinaimg.cn/large/006AfEgvgy1g85nk7tizuj31pk2rc4qv.jpg'}\n",
      "{'pid': '006AfEgvgy1g85nl7j1vhj31t62vl1l4', 'url': 'https://wx3.sinaimg.cn/large/006AfEgvgy1g85nl7j1vhj31t62vl1l4.jpg'}\n",
      "{'pid': '006AfEgvgy1g806jd2i3tj31sy2rs7wo', 'url': 'https://wx2.sinaimg.cn/large/006AfEgvgy1g806jd2i3tj31sy2rs7wo.jpg'}\n",
      "{'pid': '006AfEgvgy1g806k0p1tlj31pt2k2u13', 'url': 'https://wx2.sinaimg.cn/large/006AfEgvgy1g806k0p1tlj31pt2k2u13.jpg'}\n",
      "{'pid': '006AfEgvgy1g806ir5zo9j31qa2pkx6w', 'url': 'https://wx2.sinaimg.cn/large/006AfEgvgy1g806ir5zo9j31qa2pkx6w.jpg'}\n",
      "{'pid': '006AfEgvgy1g806jhrm7bj31qy2uye87', 'url': 'https://wx3.sinaimg.cn/large/006AfEgvgy1g806jhrm7bj31qy2uye87.jpg'}\n",
      "{'pid': '006AfEgvgy1g806k3ib6ij31tr2y3x6v', 'url': 'https://wx2.sinaimg.cn/large/006AfEgvgy1g806k3ib6ij31tr2y3x6v.jpg'}\n",
      "{'pid': '006AfEgvgy1g806j861qmj322o340x6y', 'url': 'https://wx2.sinaimg.cn/large/006AfEgvgy1g806j861qmj322o340x6y.jpg'}\n",
      "{'pid': '006AfEgvgy1g806j2l2c1j322o340u17', 'url': 'https://wx2.sinaimg.cn/large/006AfEgvgy1g806j2l2c1j322o340u17.jpg'}\n",
      "{'pid': '006AfEgvgy1g806imkf4kj322o340b2j', 'url': 'https://wx1.sinaimg.cn/large/006AfEgvgy1g806imkf4kj322o340b2j.jpg'}\n",
      "{'pid': '006AfEgvgy1g806ivxsbpj31s22u9npl', 'url': 'https://wx4.sinaimg.cn/large/006AfEgvgy1g806ivxsbpj31s22u9npl.jpg'}\n"
     ]
    }
   ],
   "source": [
    "'''\n",
    "    解析json，获取图片、视频的url\n",
    "'''\n",
    "data_list = []\n",
    "items = page_json.get(\"data\").get(\"cards\")\n",
    "for item in items[:]:\n",
    "    if 'card_group' in item:\n",
    "        for card in item.get('card_group'):\n",
    "            pics = card.get(\"mblog\").get(\"pics\")\n",
    "            # 有些微博没有配图，所以需要加一个判断，方便后面遍历不会出错\n",
    "            if pics is not None:\n",
    "                for pic in pics:\n",
    "                    pic_dict = {}\n",
    "                    pic_dict[\"pid\"] = pic.get(\"pid\")\n",
    "                    pic_dict[\"url\"] = pic.get(\"large\").get(\"url\")\n",
    "                    data_list.append(pic_dict)\n",
    "                    print(pic_dict)\n",
    "    else:\n",
    "        mblog = item.get('mblog') \n",
    "        pics = mblog.get(\"retweeted_status\").get(\"pics\")\n",
    "        # 有些微博没有配图，所以需要加一个判断，方便后面遍历不会出错\n",
    "        if pics is not None:\n",
    "            for pic in pics:\n",
    "                pic_dict = {}\n",
    "                pic_dict[\"pid\"] = pic.get(\"pid\")\n",
    "                pic_dict[\"url\"] = pic.get(\"large\").get(\"url\")\n",
    "                data_list.append(pic_dict)\n",
    "                print(pic_dict)\n",
    "        else: # 转发的视频\n",
    "            page_info = mblog.get(\"retweeted_status\").get(\"page_info\")\n",
    "            urls = page_info.get('urls')\n",
    "            video_dict = {}\n",
    "            if 'object_id' not in page_info:\n",
    "                print(mblog[\"retweeted_status\"]['text'].split('<')[0], page_info['page_url'])\n",
    "                continue\n",
    "            video_dict[\"vid\"] = page_info.get(\"object_id\")\n",
    "            video_dict[\"url\"] = urls['mp4_720p_mp4']\n",
    "            data_list.append(video_dict)\n",
    "            print(video_dict)"
   ]
  },
  {
   "cell_type": "code",
   "execution_count": 124,
   "metadata": {
    "collapsed": true,
    "jupyter": {
     "outputs_hidden": true
    }
   },
   "outputs": [
    {
     "data": {
      "text/plain": [
       "[{'pid': '006AfEgvgy1gkx3bnei62j31pn2nje87',\n",
       "  'url': 'https://wx1.sinaimg.cn/large/006AfEgvgy1gkx3bnei62j31pn2nje87.jpg'},\n",
       " {'pid': '006AfEgvgy1gkx3bt3wapj31qr2qv7wo',\n",
       "  'url': 'https://wx3.sinaimg.cn/large/006AfEgvgy1gkx3bt3wapj31qr2qv7wo.jpg'},\n",
       " {'pid': '006AfEgvgy1gkx398qxnsj31i22e9b2d',\n",
       "  'url': 'https://wx2.sinaimg.cn/large/006AfEgvgy1gkx398qxnsj31i22e9b2d.jpg'},\n",
       " {'pid': '006AfEgvgy1gkx3bykn4ij31rk2tpe87',\n",
       "  'url': 'https://wx2.sinaimg.cn/large/006AfEgvgy1gkx3bykn4ij31rk2tpe87.jpg'},\n",
       " {'pid': '006AfEgvgy1gkx3cobtpgj31t32vdqvc',\n",
       "  'url': 'https://wx3.sinaimg.cn/large/006AfEgvgy1gkx3cobtpgj31t32vdqvc.jpg'},\n",
       " {'pid': '006AfEgvgy1gkx3cvxt70j320k340x6v',\n",
       "  'url': 'https://wx2.sinaimg.cn/large/006AfEgvgy1gkx3cvxt70j320k340x6v.jpg'},\n",
       " {'pid': '006AfEgvgy1gkx3d38955j31yr340x6w',\n",
       "  'url': 'https://wx3.sinaimg.cn/large/006AfEgvgy1gkx3d38955j31yr340x6w.jpg'},\n",
       " {'pid': '006AfEgvgy1gkx3d9q4b9j3200340e88',\n",
       "  'url': 'https://wx1.sinaimg.cn/large/006AfEgvgy1gkx3d9q4b9j3200340e88.jpg'},\n",
       " {'pid': '006AfEgvgy1gkx3dgdi62j31r52tp4qv',\n",
       "  'url': 'https://wx4.sinaimg.cn/large/006AfEgvgy1gkx3dgdi62j31r52tp4qv.jpg'},\n",
       " {'pid': '006AfEgvgy1gkxu2fuih6j31ye2y0npk',\n",
       "  'url': 'https://wx1.sinaimg.cn/large/006AfEgvgy1gkxu2fuih6j31ye2y0npk.jpg'},\n",
       " {'pid': '006AfEgvgy1gkxu38yty0j31wj30du14',\n",
       "  'url': 'https://wx4.sinaimg.cn/large/006AfEgvgy1gkxu38yty0j31wj30du14.jpg'},\n",
       " {'pid': '006AfEgvgy1gkxu5hwel9j31p12l6b2f',\n",
       "  'url': 'https://wx1.sinaimg.cn/large/006AfEgvgy1gkxu5hwel9j31p12l6b2f.jpg'},\n",
       " {'pid': '006AfEgvgy1gkxu0zdo35j31og2or7wn',\n",
       "  'url': 'https://wx1.sinaimg.cn/large/006AfEgvgy1gkxu0zdo35j31og2or7wn.jpg'},\n",
       " {'pid': '006AfEgvgy1gkxu4yb2cfj322o340kjt',\n",
       "  'url': 'https://wx3.sinaimg.cn/large/006AfEgvgy1gkxu4yb2cfj322o340kjt.jpg'},\n",
       " {'pid': '006AfEgvgy1gkxu3du6m1j321o3404qx',\n",
       "  'url': 'https://wx1.sinaimg.cn/large/006AfEgvgy1gkxu3du6m1j321o3404qx.jpg'},\n",
       " {'pid': '006AfEgvgy1gkxu3rmwwpj320w340he2',\n",
       "  'url': 'https://wx3.sinaimg.cn/large/006AfEgvgy1gkxu3rmwwpj320w340he2.jpg'},\n",
       " {'pid': '006AfEgvgy1gkxu4cifj1j320s340x6x',\n",
       "  'url': 'https://wx3.sinaimg.cn/large/006AfEgvgy1gkxu4cifj1j320s340x6x.jpg'},\n",
       " {'pid': '006AfEgvgy1gkxu42cyewj3204340u16',\n",
       "  'url': 'https://wx3.sinaimg.cn/large/006AfEgvgy1gkxu42cyewj3204340u16.jpg'},\n",
       " {'pid': '006AfEgvgy1gkwolt9zkpj320o340e8a',\n",
       "  'url': 'https://wx2.sinaimg.cn/large/006AfEgvgy1gkwolt9zkpj320o340e8a.jpg'},\n",
       " {'pid': '006AfEgvgy1gkwombtfnoj31lh2kahdy',\n",
       "  'url': 'https://wx2.sinaimg.cn/large/006AfEgvgy1gkwombtfnoj31lh2kahdy.jpg'},\n",
       " {'pid': '006AfEgvgy1gkwomr388pj31v22yse87',\n",
       "  'url': 'https://wx1.sinaimg.cn/large/006AfEgvgy1gkwomr388pj31v22yse87.jpg'},\n",
       " {'pid': '006AfEgvgy1gkwon1a53mj31zs3404qx',\n",
       "  'url': 'https://wx4.sinaimg.cn/large/006AfEgvgy1gkwon1a53mj31zs3404qx.jpg'},\n",
       " {'pid': '006AfEgvgy1gkwon87350j320g3401l6',\n",
       "  'url': 'https://wx2.sinaimg.cn/large/006AfEgvgy1gkwon87350j320g3401l6.jpg'},\n",
       " {'pid': '006AfEgvgy1gkwonhbhg4j322o25wkjq',\n",
       "  'url': 'https://wx2.sinaimg.cn/large/006AfEgvgy1gkwonhbhg4j322o25wkjq.jpg'},\n",
       " {'pid': '006AfEgvgy1gkwonjro18j313x1q81ky',\n",
       "  'url': 'https://wx3.sinaimg.cn/large/006AfEgvgy1gkwonjro18j313x1q81ky.jpg'},\n",
       " {'pid': '006AfEgvgy1gkwonnpl3ej31z0340qva',\n",
       "  'url': 'https://wx2.sinaimg.cn/large/006AfEgvgy1gkwonnpl3ej31z0340qva.jpg'},\n",
       " {'pid': '006AfEgvgy1gkwoo44qvcj31vj30rb2f',\n",
       "  'url': 'https://wx1.sinaimg.cn/large/006AfEgvgy1gkwoo44qvcj31vj30rb2f.jpg'},\n",
       " {'pid': '006AfEgvgy1g85nke73dtj320w3401l8',\n",
       "  'url': 'https://wx4.sinaimg.cn/large/006AfEgvgy1g85nke73dtj320w3401l8.jpg'},\n",
       " {'pid': '006AfEgvgy1g85nkj368pj31un2vpb2g',\n",
       "  'url': 'https://wx1.sinaimg.cn/large/006AfEgvgy1g85nkj368pj31un2vpb2g.jpg'},\n",
       " {'pid': '006AfEgvgy1g85nkmq2ejj31r22r0hdz',\n",
       "  'url': 'https://wx3.sinaimg.cn/large/006AfEgvgy1g85nkmq2ejj31r22r0hdz.jpg'},\n",
       " {'pid': '006AfEgvgy1g8587ujmdmj31s22ojb2f',\n",
       "  'url': 'https://wx3.sinaimg.cn/large/006AfEgvgy1g8587ujmdmj31s22ojb2f.jpg'},\n",
       " {'pid': '006AfEgvgy1g85nkss8xfj321c340u18',\n",
       "  'url': 'https://wx3.sinaimg.cn/large/006AfEgvgy1g85nkss8xfj321c340u18.jpg'},\n",
       " {'pid': '006AfEgvgy1g85nkze8ivj31xf327u18',\n",
       "  'url': 'https://wx4.sinaimg.cn/large/006AfEgvgy1g85nkze8ivj31xf327u18.jpg'},\n",
       " {'pid': '006AfEgvgy1g85nl3m9k7j31ry2sox6v',\n",
       "  'url': 'https://wx1.sinaimg.cn/large/006AfEgvgy1g85nl3m9k7j31ry2sox6v.jpg'},\n",
       " {'pid': '006AfEgvgy1g85nk7tizuj31pk2rc4qv',\n",
       "  'url': 'https://wx2.sinaimg.cn/large/006AfEgvgy1g85nk7tizuj31pk2rc4qv.jpg'},\n",
       " {'pid': '006AfEgvgy1g85nl7j1vhj31t62vl1l4',\n",
       "  'url': 'https://wx3.sinaimg.cn/large/006AfEgvgy1g85nl7j1vhj31t62vl1l4.jpg'},\n",
       " {'pid': '006AfEgvgy1g806jd2i3tj31sy2rs7wo',\n",
       "  'url': 'https://wx2.sinaimg.cn/large/006AfEgvgy1g806jd2i3tj31sy2rs7wo.jpg'},\n",
       " {'pid': '006AfEgvgy1g806k0p1tlj31pt2k2u13',\n",
       "  'url': 'https://wx2.sinaimg.cn/large/006AfEgvgy1g806k0p1tlj31pt2k2u13.jpg'},\n",
       " {'pid': '006AfEgvgy1g806ir5zo9j31qa2pkx6w',\n",
       "  'url': 'https://wx2.sinaimg.cn/large/006AfEgvgy1g806ir5zo9j31qa2pkx6w.jpg'},\n",
       " {'pid': '006AfEgvgy1g806jhrm7bj31qy2uye87',\n",
       "  'url': 'https://wx3.sinaimg.cn/large/006AfEgvgy1g806jhrm7bj31qy2uye87.jpg'},\n",
       " {'pid': '006AfEgvgy1g806k3ib6ij31tr2y3x6v',\n",
       "  'url': 'https://wx2.sinaimg.cn/large/006AfEgvgy1g806k3ib6ij31tr2y3x6v.jpg'},\n",
       " {'pid': '006AfEgvgy1g806j861qmj322o340x6y',\n",
       "  'url': 'https://wx2.sinaimg.cn/large/006AfEgvgy1g806j861qmj322o340x6y.jpg'},\n",
       " {'pid': '006AfEgvgy1g806j2l2c1j322o340u17',\n",
       "  'url': 'https://wx2.sinaimg.cn/large/006AfEgvgy1g806j2l2c1j322o340u17.jpg'},\n",
       " {'pid': '006AfEgvgy1g806imkf4kj322o340b2j',\n",
       "  'url': 'https://wx1.sinaimg.cn/large/006AfEgvgy1g806imkf4kj322o340b2j.jpg'},\n",
       " {'pid': '006AfEgvgy1g806ivxsbpj31s22u9npl',\n",
       "  'url': 'https://wx4.sinaimg.cn/large/006AfEgvgy1g806ivxsbpj31s22u9npl.jpg'}]"
      ]
     },
     "execution_count": 124,
     "metadata": {},
     "output_type": "execute_result"
    }
   ],
   "source": [
    "data_list"
   ]
  },
  {
   "cell_type": "code",
   "execution_count": null,
   "metadata": {},
   "outputs": [],
   "source": []
  },
  {
   "cell_type": "code",
   "execution_count": 140,
   "metadata": {
    "collapsed": true,
    "jupyter": {
     "outputs_hidden": true
    }
   },
   "outputs": [
    {
     "name": "stdout",
     "output_type": "stream",
     "text": [
      "|\u001b[31m###\u001b[0m\u001b[31m###\u001b[0m\u001b[31m###\u001b[0m\u001b[31m###\u001b[0m\u001b[31m###\u001b[0m\u001b[31m###\u001b[0m\u001b[31m###\u001b[0m\u001b[31m###\u001b[0m\u001b[31m###\u001b[0m\u001b[31m###\u001b[0m\u001b[31m###\u001b[0m\u001b[31m###\u001b[0m\u001b[31m###\u001b[0m\u001b[31m###\u001b[0m\u001b[31m###\u001b[0m\u001b[31m###\u001b[0m\u001b[31m###\u001b[0m\u001b[31m###\u001b[0m\u001b[31m###\u001b[0m\u001b[31m###\u001b[0m\u001b[31m###\u001b[0m\u001b[31m###\u001b[0m 227.3%|100%"
     ]
    },
    {
     "ename": "KeyboardInterrupt",
     "evalue": "",
     "output_type": "error",
     "traceback": [
      "\u001b[0;31m---------------------------------------------------------------------------\u001b[0m",
      "\u001b[0;31mKeyboardInterrupt\u001b[0m                         Traceback (most recent call last)",
      "\u001b[0;32m<ipython-input-140-792f153e7980>\u001b[0m in \u001b[0;36m<module>\u001b[0;34m\u001b[0m\n\u001b[1;32m     28\u001b[0m     \u001b[0;32mif\u001b[0m \u001b[0mcount\u001b[0m \u001b[0;34m==\u001b[0m \u001b[0midx\u001b[0m\u001b[0;34m:\u001b[0m\u001b[0;34m\u001b[0m\u001b[0;34m\u001b[0m\u001b[0m\n\u001b[1;32m     29\u001b[0m          \u001b[0mprint\u001b[0m\u001b[0;34m(\u001b[0m\u001b[0;34m\"all file download successed!\"\u001b[0m\u001b[0;34m)\u001b[0m\u001b[0;34m\u001b[0m\u001b[0;34m\u001b[0m\u001b[0m\n\u001b[0;32m---> 30\u001b[0;31m \u001b[0msave_img_video\u001b[0m\u001b[0;34m(\u001b[0m\u001b[0mdata_list\u001b[0m\u001b[0;34m)\u001b[0m\u001b[0;34m\u001b[0m\u001b[0;34m\u001b[0m\u001b[0m\n\u001b[0m",
      "\u001b[0;32m<ipython-input-140-792f153e7980>\u001b[0m in \u001b[0;36msave_img_video\u001b[0;34m(results)\u001b[0m\n\u001b[1;32m     17\u001b[0m             \u001b[0;32mcontinue\u001b[0m\u001b[0;34m\u001b[0m\u001b[0;34m\u001b[0m\u001b[0m\n\u001b[1;32m     18\u001b[0m         \u001b[0;32mtry\u001b[0m\u001b[0;34m:\u001b[0m\u001b[0;34m\u001b[0m\u001b[0;34m\u001b[0m\u001b[0m\n\u001b[0;32m---> 19\u001b[0;31m             \u001b[0mdata\u001b[0m \u001b[0;34m=\u001b[0m \u001b[0mrequests\u001b[0m\u001b[0;34m.\u001b[0m\u001b[0mget\u001b[0m\u001b[0;34m(\u001b[0m\u001b[0mr_dict\u001b[0m\u001b[0;34m.\u001b[0m\u001b[0mget\u001b[0m\u001b[0;34m(\u001b[0m\u001b[0;34m\"url\"\u001b[0m\u001b[0;34m)\u001b[0m\u001b[0;34m)\u001b[0m\u001b[0;34m\u001b[0m\u001b[0;34m\u001b[0m\u001b[0m\n\u001b[0m\u001b[1;32m     20\u001b[0m             \u001b[0;32mwith\u001b[0m \u001b[0mopen\u001b[0m\u001b[0;34m(\u001b[0m\u001b[0mpath\u001b[0m \u001b[0;34m+\u001b[0m \u001b[0mname\u001b[0m\u001b[0;34m,\u001b[0m \u001b[0;34m\"wb\"\u001b[0m\u001b[0;34m)\u001b[0m \u001b[0;32mas\u001b[0m \u001b[0mfile\u001b[0m\u001b[0;34m:\u001b[0m\u001b[0;34m\u001b[0m\u001b[0;34m\u001b[0m\u001b[0m\n\u001b[1;32m     21\u001b[0m                 \u001b[0mfile\u001b[0m\u001b[0;34m.\u001b[0m\u001b[0mwrite\u001b[0m\u001b[0;34m(\u001b[0m\u001b[0mdata\u001b[0m\u001b[0;34m.\u001b[0m\u001b[0mcontent\u001b[0m\u001b[0;34m)\u001b[0m\u001b[0;34m\u001b[0m\u001b[0;34m\u001b[0m\u001b[0m\n",
      "\u001b[0;32m/opt/anaconda3/lib/python3.7/site-packages/requests/api.py\u001b[0m in \u001b[0;36mget\u001b[0;34m(url, params, **kwargs)\u001b[0m\n\u001b[1;32m     73\u001b[0m \u001b[0;34m\u001b[0m\u001b[0m\n\u001b[1;32m     74\u001b[0m     \u001b[0mkwargs\u001b[0m\u001b[0;34m.\u001b[0m\u001b[0msetdefault\u001b[0m\u001b[0;34m(\u001b[0m\u001b[0;34m'allow_redirects'\u001b[0m\u001b[0;34m,\u001b[0m \u001b[0;32mTrue\u001b[0m\u001b[0;34m)\u001b[0m\u001b[0;34m\u001b[0m\u001b[0;34m\u001b[0m\u001b[0m\n\u001b[0;32m---> 75\u001b[0;31m     \u001b[0;32mreturn\u001b[0m \u001b[0mrequest\u001b[0m\u001b[0;34m(\u001b[0m\u001b[0;34m'get'\u001b[0m\u001b[0;34m,\u001b[0m \u001b[0murl\u001b[0m\u001b[0;34m,\u001b[0m \u001b[0mparams\u001b[0m\u001b[0;34m=\u001b[0m\u001b[0mparams\u001b[0m\u001b[0;34m,\u001b[0m \u001b[0;34m**\u001b[0m\u001b[0mkwargs\u001b[0m\u001b[0;34m)\u001b[0m\u001b[0;34m\u001b[0m\u001b[0;34m\u001b[0m\u001b[0m\n\u001b[0m\u001b[1;32m     76\u001b[0m \u001b[0;34m\u001b[0m\u001b[0m\n\u001b[1;32m     77\u001b[0m \u001b[0;34m\u001b[0m\u001b[0m\n",
      "\u001b[0;32m/opt/anaconda3/lib/python3.7/site-packages/requests/api.py\u001b[0m in \u001b[0;36mrequest\u001b[0;34m(method, url, **kwargs)\u001b[0m\n\u001b[1;32m     58\u001b[0m     \u001b[0;31m# cases, and look like a memory leak in others.\u001b[0m\u001b[0;34m\u001b[0m\u001b[0;34m\u001b[0m\u001b[0;34m\u001b[0m\u001b[0m\n\u001b[1;32m     59\u001b[0m     \u001b[0;32mwith\u001b[0m \u001b[0msessions\u001b[0m\u001b[0;34m.\u001b[0m\u001b[0mSession\u001b[0m\u001b[0;34m(\u001b[0m\u001b[0;34m)\u001b[0m \u001b[0;32mas\u001b[0m \u001b[0msession\u001b[0m\u001b[0;34m:\u001b[0m\u001b[0;34m\u001b[0m\u001b[0;34m\u001b[0m\u001b[0m\n\u001b[0;32m---> 60\u001b[0;31m         \u001b[0;32mreturn\u001b[0m \u001b[0msession\u001b[0m\u001b[0;34m.\u001b[0m\u001b[0mrequest\u001b[0m\u001b[0;34m(\u001b[0m\u001b[0mmethod\u001b[0m\u001b[0;34m=\u001b[0m\u001b[0mmethod\u001b[0m\u001b[0;34m,\u001b[0m \u001b[0murl\u001b[0m\u001b[0;34m=\u001b[0m\u001b[0murl\u001b[0m\u001b[0;34m,\u001b[0m \u001b[0;34m**\u001b[0m\u001b[0mkwargs\u001b[0m\u001b[0;34m)\u001b[0m\u001b[0;34m\u001b[0m\u001b[0;34m\u001b[0m\u001b[0m\n\u001b[0m\u001b[1;32m     61\u001b[0m \u001b[0;34m\u001b[0m\u001b[0m\n\u001b[1;32m     62\u001b[0m \u001b[0;34m\u001b[0m\u001b[0m\n",
      "\u001b[0;32m/opt/anaconda3/lib/python3.7/site-packages/requests/sessions.py\u001b[0m in \u001b[0;36mrequest\u001b[0;34m(self, method, url, params, data, headers, cookies, files, auth, timeout, allow_redirects, proxies, hooks, stream, verify, cert, json)\u001b[0m\n\u001b[1;32m    531\u001b[0m         }\n\u001b[1;32m    532\u001b[0m         \u001b[0msend_kwargs\u001b[0m\u001b[0;34m.\u001b[0m\u001b[0mupdate\u001b[0m\u001b[0;34m(\u001b[0m\u001b[0msettings\u001b[0m\u001b[0;34m)\u001b[0m\u001b[0;34m\u001b[0m\u001b[0;34m\u001b[0m\u001b[0m\n\u001b[0;32m--> 533\u001b[0;31m         \u001b[0mresp\u001b[0m \u001b[0;34m=\u001b[0m \u001b[0mself\u001b[0m\u001b[0;34m.\u001b[0m\u001b[0msend\u001b[0m\u001b[0;34m(\u001b[0m\u001b[0mprep\u001b[0m\u001b[0;34m,\u001b[0m \u001b[0;34m**\u001b[0m\u001b[0msend_kwargs\u001b[0m\u001b[0;34m)\u001b[0m\u001b[0;34m\u001b[0m\u001b[0;34m\u001b[0m\u001b[0m\n\u001b[0m\u001b[1;32m    534\u001b[0m \u001b[0;34m\u001b[0m\u001b[0m\n\u001b[1;32m    535\u001b[0m         \u001b[0;32mreturn\u001b[0m \u001b[0mresp\u001b[0m\u001b[0;34m\u001b[0m\u001b[0;34m\u001b[0m\u001b[0m\n",
      "\u001b[0;32m/opt/anaconda3/lib/python3.7/site-packages/requests/sessions.py\u001b[0m in \u001b[0;36msend\u001b[0;34m(self, request, **kwargs)\u001b[0m\n\u001b[1;32m    684\u001b[0m \u001b[0;34m\u001b[0m\u001b[0m\n\u001b[1;32m    685\u001b[0m         \u001b[0;32mif\u001b[0m \u001b[0;32mnot\u001b[0m \u001b[0mstream\u001b[0m\u001b[0;34m:\u001b[0m\u001b[0;34m\u001b[0m\u001b[0;34m\u001b[0m\u001b[0m\n\u001b[0;32m--> 686\u001b[0;31m             \u001b[0mr\u001b[0m\u001b[0;34m.\u001b[0m\u001b[0mcontent\u001b[0m\u001b[0;34m\u001b[0m\u001b[0;34m\u001b[0m\u001b[0m\n\u001b[0m\u001b[1;32m    687\u001b[0m \u001b[0;34m\u001b[0m\u001b[0m\n\u001b[1;32m    688\u001b[0m         \u001b[0;32mreturn\u001b[0m \u001b[0mr\u001b[0m\u001b[0;34m\u001b[0m\u001b[0;34m\u001b[0m\u001b[0m\n",
      "\u001b[0;32m/opt/anaconda3/lib/python3.7/site-packages/requests/models.py\u001b[0m in \u001b[0;36mcontent\u001b[0;34m(self)\u001b[0m\n\u001b[1;32m    826\u001b[0m                 \u001b[0mself\u001b[0m\u001b[0;34m.\u001b[0m\u001b[0m_content\u001b[0m \u001b[0;34m=\u001b[0m \u001b[0;32mNone\u001b[0m\u001b[0;34m\u001b[0m\u001b[0;34m\u001b[0m\u001b[0m\n\u001b[1;32m    827\u001b[0m             \u001b[0;32melse\u001b[0m\u001b[0;34m:\u001b[0m\u001b[0;34m\u001b[0m\u001b[0;34m\u001b[0m\u001b[0m\n\u001b[0;32m--> 828\u001b[0;31m                 \u001b[0mself\u001b[0m\u001b[0;34m.\u001b[0m\u001b[0m_content\u001b[0m \u001b[0;34m=\u001b[0m \u001b[0;34mb''\u001b[0m\u001b[0;34m.\u001b[0m\u001b[0mjoin\u001b[0m\u001b[0;34m(\u001b[0m\u001b[0mself\u001b[0m\u001b[0;34m.\u001b[0m\u001b[0miter_content\u001b[0m\u001b[0;34m(\u001b[0m\u001b[0mCONTENT_CHUNK_SIZE\u001b[0m\u001b[0;34m)\u001b[0m\u001b[0;34m)\u001b[0m \u001b[0;32mor\u001b[0m \u001b[0;34mb''\u001b[0m\u001b[0;34m\u001b[0m\u001b[0;34m\u001b[0m\u001b[0m\n\u001b[0m\u001b[1;32m    829\u001b[0m \u001b[0;34m\u001b[0m\u001b[0m\n\u001b[1;32m    830\u001b[0m         \u001b[0mself\u001b[0m\u001b[0;34m.\u001b[0m\u001b[0m_content_consumed\u001b[0m \u001b[0;34m=\u001b[0m \u001b[0;32mTrue\u001b[0m\u001b[0;34m\u001b[0m\u001b[0;34m\u001b[0m\u001b[0m\n",
      "\u001b[0;32m/opt/anaconda3/lib/python3.7/site-packages/requests/models.py\u001b[0m in \u001b[0;36mgenerate\u001b[0;34m()\u001b[0m\n\u001b[1;32m    748\u001b[0m             \u001b[0;32mif\u001b[0m \u001b[0mhasattr\u001b[0m\u001b[0;34m(\u001b[0m\u001b[0mself\u001b[0m\u001b[0;34m.\u001b[0m\u001b[0mraw\u001b[0m\u001b[0;34m,\u001b[0m \u001b[0;34m'stream'\u001b[0m\u001b[0;34m)\u001b[0m\u001b[0;34m:\u001b[0m\u001b[0;34m\u001b[0m\u001b[0;34m\u001b[0m\u001b[0m\n\u001b[1;32m    749\u001b[0m                 \u001b[0;32mtry\u001b[0m\u001b[0;34m:\u001b[0m\u001b[0;34m\u001b[0m\u001b[0;34m\u001b[0m\u001b[0m\n\u001b[0;32m--> 750\u001b[0;31m                     \u001b[0;32mfor\u001b[0m \u001b[0mchunk\u001b[0m \u001b[0;32min\u001b[0m \u001b[0mself\u001b[0m\u001b[0;34m.\u001b[0m\u001b[0mraw\u001b[0m\u001b[0;34m.\u001b[0m\u001b[0mstream\u001b[0m\u001b[0;34m(\u001b[0m\u001b[0mchunk_size\u001b[0m\u001b[0;34m,\u001b[0m \u001b[0mdecode_content\u001b[0m\u001b[0;34m=\u001b[0m\u001b[0;32mTrue\u001b[0m\u001b[0;34m)\u001b[0m\u001b[0;34m:\u001b[0m\u001b[0;34m\u001b[0m\u001b[0;34m\u001b[0m\u001b[0m\n\u001b[0m\u001b[1;32m    751\u001b[0m                         \u001b[0;32myield\u001b[0m \u001b[0mchunk\u001b[0m\u001b[0;34m\u001b[0m\u001b[0;34m\u001b[0m\u001b[0m\n\u001b[1;32m    752\u001b[0m                 \u001b[0;32mexcept\u001b[0m \u001b[0mProtocolError\u001b[0m \u001b[0;32mas\u001b[0m \u001b[0me\u001b[0m\u001b[0;34m:\u001b[0m\u001b[0;34m\u001b[0m\u001b[0;34m\u001b[0m\u001b[0m\n",
      "\u001b[0;32m/opt/anaconda3/lib/python3.7/site-packages/urllib3/response.py\u001b[0m in \u001b[0;36mstream\u001b[0;34m(self, amt, decode_content)\u001b[0m\n\u001b[1;32m    562\u001b[0m         \u001b[0;32melse\u001b[0m\u001b[0;34m:\u001b[0m\u001b[0;34m\u001b[0m\u001b[0;34m\u001b[0m\u001b[0m\n\u001b[1;32m    563\u001b[0m             \u001b[0;32mwhile\u001b[0m \u001b[0;32mnot\u001b[0m \u001b[0mis_fp_closed\u001b[0m\u001b[0;34m(\u001b[0m\u001b[0mself\u001b[0m\u001b[0;34m.\u001b[0m\u001b[0m_fp\u001b[0m\u001b[0;34m)\u001b[0m\u001b[0;34m:\u001b[0m\u001b[0;34m\u001b[0m\u001b[0;34m\u001b[0m\u001b[0m\n\u001b[0;32m--> 564\u001b[0;31m                 \u001b[0mdata\u001b[0m \u001b[0;34m=\u001b[0m \u001b[0mself\u001b[0m\u001b[0;34m.\u001b[0m\u001b[0mread\u001b[0m\u001b[0;34m(\u001b[0m\u001b[0mamt\u001b[0m\u001b[0;34m=\u001b[0m\u001b[0mamt\u001b[0m\u001b[0;34m,\u001b[0m \u001b[0mdecode_content\u001b[0m\u001b[0;34m=\u001b[0m\u001b[0mdecode_content\u001b[0m\u001b[0;34m)\u001b[0m\u001b[0;34m\u001b[0m\u001b[0;34m\u001b[0m\u001b[0m\n\u001b[0m\u001b[1;32m    565\u001b[0m \u001b[0;34m\u001b[0m\u001b[0m\n\u001b[1;32m    566\u001b[0m                 \u001b[0;32mif\u001b[0m \u001b[0mdata\u001b[0m\u001b[0;34m:\u001b[0m\u001b[0;34m\u001b[0m\u001b[0;34m\u001b[0m\u001b[0m\n",
      "\u001b[0;32m/opt/anaconda3/lib/python3.7/site-packages/urllib3/response.py\u001b[0m in \u001b[0;36mread\u001b[0;34m(self, amt, decode_content, cache_content)\u001b[0m\n\u001b[1;32m    505\u001b[0m             \u001b[0;32melse\u001b[0m\u001b[0;34m:\u001b[0m\u001b[0;34m\u001b[0m\u001b[0;34m\u001b[0m\u001b[0m\n\u001b[1;32m    506\u001b[0m                 \u001b[0mcache_content\u001b[0m \u001b[0;34m=\u001b[0m \u001b[0;32mFalse\u001b[0m\u001b[0;34m\u001b[0m\u001b[0;34m\u001b[0m\u001b[0m\n\u001b[0;32m--> 507\u001b[0;31m                 \u001b[0mdata\u001b[0m \u001b[0;34m=\u001b[0m \u001b[0mself\u001b[0m\u001b[0;34m.\u001b[0m\u001b[0m_fp\u001b[0m\u001b[0;34m.\u001b[0m\u001b[0mread\u001b[0m\u001b[0;34m(\u001b[0m\u001b[0mamt\u001b[0m\u001b[0;34m)\u001b[0m \u001b[0;32mif\u001b[0m \u001b[0;32mnot\u001b[0m \u001b[0mfp_closed\u001b[0m \u001b[0;32melse\u001b[0m \u001b[0;34mb\"\"\u001b[0m\u001b[0;34m\u001b[0m\u001b[0;34m\u001b[0m\u001b[0m\n\u001b[0m\u001b[1;32m    508\u001b[0m                 if (\n\u001b[1;32m    509\u001b[0m                     \u001b[0mamt\u001b[0m \u001b[0;34m!=\u001b[0m \u001b[0;36m0\u001b[0m \u001b[0;32mand\u001b[0m \u001b[0;32mnot\u001b[0m \u001b[0mdata\u001b[0m\u001b[0;34m\u001b[0m\u001b[0;34m\u001b[0m\u001b[0m\n",
      "\u001b[0;32m/opt/anaconda3/lib/python3.7/http/client.py\u001b[0m in \u001b[0;36mread\u001b[0;34m(self, amt)\u001b[0m\n\u001b[1;32m    455\u001b[0m             \u001b[0;31m# Amount is given, implement using readinto\u001b[0m\u001b[0;34m\u001b[0m\u001b[0;34m\u001b[0m\u001b[0;34m\u001b[0m\u001b[0m\n\u001b[1;32m    456\u001b[0m             \u001b[0mb\u001b[0m \u001b[0;34m=\u001b[0m \u001b[0mbytearray\u001b[0m\u001b[0;34m(\u001b[0m\u001b[0mamt\u001b[0m\u001b[0;34m)\u001b[0m\u001b[0;34m\u001b[0m\u001b[0;34m\u001b[0m\u001b[0m\n\u001b[0;32m--> 457\u001b[0;31m             \u001b[0mn\u001b[0m \u001b[0;34m=\u001b[0m \u001b[0mself\u001b[0m\u001b[0;34m.\u001b[0m\u001b[0mreadinto\u001b[0m\u001b[0;34m(\u001b[0m\u001b[0mb\u001b[0m\u001b[0;34m)\u001b[0m\u001b[0;34m\u001b[0m\u001b[0;34m\u001b[0m\u001b[0m\n\u001b[0m\u001b[1;32m    458\u001b[0m             \u001b[0;32mreturn\u001b[0m \u001b[0mmemoryview\u001b[0m\u001b[0;34m(\u001b[0m\u001b[0mb\u001b[0m\u001b[0;34m)\u001b[0m\u001b[0;34m[\u001b[0m\u001b[0;34m:\u001b[0m\u001b[0mn\u001b[0m\u001b[0;34m]\u001b[0m\u001b[0;34m.\u001b[0m\u001b[0mtobytes\u001b[0m\u001b[0;34m(\u001b[0m\u001b[0;34m)\u001b[0m\u001b[0;34m\u001b[0m\u001b[0;34m\u001b[0m\u001b[0m\n\u001b[1;32m    459\u001b[0m         \u001b[0;32melse\u001b[0m\u001b[0;34m:\u001b[0m\u001b[0;34m\u001b[0m\u001b[0;34m\u001b[0m\u001b[0m\n",
      "\u001b[0;32m/opt/anaconda3/lib/python3.7/http/client.py\u001b[0m in \u001b[0;36mreadinto\u001b[0;34m(self, b)\u001b[0m\n\u001b[1;32m    499\u001b[0m         \u001b[0;31m# connection, and the user is reading more bytes than will be provided\u001b[0m\u001b[0;34m\u001b[0m\u001b[0;34m\u001b[0m\u001b[0;34m\u001b[0m\u001b[0m\n\u001b[1;32m    500\u001b[0m         \u001b[0;31m# (for example, reading in 1k chunks)\u001b[0m\u001b[0;34m\u001b[0m\u001b[0;34m\u001b[0m\u001b[0;34m\u001b[0m\u001b[0m\n\u001b[0;32m--> 501\u001b[0;31m         \u001b[0mn\u001b[0m \u001b[0;34m=\u001b[0m \u001b[0mself\u001b[0m\u001b[0;34m.\u001b[0m\u001b[0mfp\u001b[0m\u001b[0;34m.\u001b[0m\u001b[0mreadinto\u001b[0m\u001b[0;34m(\u001b[0m\u001b[0mb\u001b[0m\u001b[0;34m)\u001b[0m\u001b[0;34m\u001b[0m\u001b[0;34m\u001b[0m\u001b[0m\n\u001b[0m\u001b[1;32m    502\u001b[0m         \u001b[0;32mif\u001b[0m \u001b[0;32mnot\u001b[0m \u001b[0mn\u001b[0m \u001b[0;32mand\u001b[0m \u001b[0mb\u001b[0m\u001b[0;34m:\u001b[0m\u001b[0;34m\u001b[0m\u001b[0;34m\u001b[0m\u001b[0m\n\u001b[1;32m    503\u001b[0m             \u001b[0;31m# Ideally, we would raise IncompleteRead if the content-length\u001b[0m\u001b[0;34m\u001b[0m\u001b[0;34m\u001b[0m\u001b[0;34m\u001b[0m\u001b[0m\n",
      "\u001b[0;32m/opt/anaconda3/lib/python3.7/socket.py\u001b[0m in \u001b[0;36mreadinto\u001b[0;34m(self, b)\u001b[0m\n\u001b[1;32m    587\u001b[0m         \u001b[0;32mwhile\u001b[0m \u001b[0;32mTrue\u001b[0m\u001b[0;34m:\u001b[0m\u001b[0;34m\u001b[0m\u001b[0;34m\u001b[0m\u001b[0m\n\u001b[1;32m    588\u001b[0m             \u001b[0;32mtry\u001b[0m\u001b[0;34m:\u001b[0m\u001b[0;34m\u001b[0m\u001b[0;34m\u001b[0m\u001b[0m\n\u001b[0;32m--> 589\u001b[0;31m                 \u001b[0;32mreturn\u001b[0m \u001b[0mself\u001b[0m\u001b[0;34m.\u001b[0m\u001b[0m_sock\u001b[0m\u001b[0;34m.\u001b[0m\u001b[0mrecv_into\u001b[0m\u001b[0;34m(\u001b[0m\u001b[0mb\u001b[0m\u001b[0;34m)\u001b[0m\u001b[0;34m\u001b[0m\u001b[0;34m\u001b[0m\u001b[0m\n\u001b[0m\u001b[1;32m    590\u001b[0m             \u001b[0;32mexcept\u001b[0m \u001b[0mtimeout\u001b[0m\u001b[0;34m:\u001b[0m\u001b[0;34m\u001b[0m\u001b[0;34m\u001b[0m\u001b[0m\n\u001b[1;32m    591\u001b[0m                 \u001b[0mself\u001b[0m\u001b[0;34m.\u001b[0m\u001b[0m_timeout_occurred\u001b[0m \u001b[0;34m=\u001b[0m \u001b[0;32mTrue\u001b[0m\u001b[0;34m\u001b[0m\u001b[0;34m\u001b[0m\u001b[0m\n",
      "\u001b[0;32m/opt/anaconda3/lib/python3.7/site-packages/urllib3/contrib/pyopenssl.py\u001b[0m in \u001b[0;36mrecv_into\u001b[0;34m(self, *args, **kwargs)\u001b[0m\n\u001b[1;32m    311\u001b[0m     \u001b[0;32mdef\u001b[0m \u001b[0mrecv_into\u001b[0m\u001b[0;34m(\u001b[0m\u001b[0mself\u001b[0m\u001b[0;34m,\u001b[0m \u001b[0;34m*\u001b[0m\u001b[0margs\u001b[0m\u001b[0;34m,\u001b[0m \u001b[0;34m**\u001b[0m\u001b[0mkwargs\u001b[0m\u001b[0;34m)\u001b[0m\u001b[0;34m:\u001b[0m\u001b[0;34m\u001b[0m\u001b[0;34m\u001b[0m\u001b[0m\n\u001b[1;32m    312\u001b[0m         \u001b[0;32mtry\u001b[0m\u001b[0;34m:\u001b[0m\u001b[0;34m\u001b[0m\u001b[0;34m\u001b[0m\u001b[0m\n\u001b[0;32m--> 313\u001b[0;31m             \u001b[0;32mreturn\u001b[0m \u001b[0mself\u001b[0m\u001b[0;34m.\u001b[0m\u001b[0mconnection\u001b[0m\u001b[0;34m.\u001b[0m\u001b[0mrecv_into\u001b[0m\u001b[0;34m(\u001b[0m\u001b[0;34m*\u001b[0m\u001b[0margs\u001b[0m\u001b[0;34m,\u001b[0m \u001b[0;34m**\u001b[0m\u001b[0mkwargs\u001b[0m\u001b[0;34m)\u001b[0m\u001b[0;34m\u001b[0m\u001b[0;34m\u001b[0m\u001b[0m\n\u001b[0m\u001b[1;32m    314\u001b[0m         \u001b[0;32mexcept\u001b[0m \u001b[0mOpenSSL\u001b[0m\u001b[0;34m.\u001b[0m\u001b[0mSSL\u001b[0m\u001b[0;34m.\u001b[0m\u001b[0mSysCallError\u001b[0m \u001b[0;32mas\u001b[0m \u001b[0me\u001b[0m\u001b[0;34m:\u001b[0m\u001b[0;34m\u001b[0m\u001b[0;34m\u001b[0m\u001b[0m\n\u001b[1;32m    315\u001b[0m             \u001b[0;32mif\u001b[0m \u001b[0mself\u001b[0m\u001b[0;34m.\u001b[0m\u001b[0msuppress_ragged_eofs\u001b[0m \u001b[0;32mand\u001b[0m \u001b[0me\u001b[0m\u001b[0;34m.\u001b[0m\u001b[0margs\u001b[0m \u001b[0;34m==\u001b[0m \u001b[0;34m(\u001b[0m\u001b[0;34m-\u001b[0m\u001b[0;36m1\u001b[0m\u001b[0;34m,\u001b[0m \u001b[0;34m\"Unexpected EOF\"\u001b[0m\u001b[0;34m)\u001b[0m\u001b[0;34m:\u001b[0m\u001b[0;34m\u001b[0m\u001b[0;34m\u001b[0m\u001b[0m\n",
      "\u001b[0;32m/opt/anaconda3/lib/python3.7/site-packages/OpenSSL/SSL.py\u001b[0m in \u001b[0;36mrecv_into\u001b[0;34m(self, buffer, nbytes, flags)\u001b[0m\n\u001b[1;32m   1837\u001b[0m             \u001b[0mresult\u001b[0m \u001b[0;34m=\u001b[0m \u001b[0m_lib\u001b[0m\u001b[0;34m.\u001b[0m\u001b[0mSSL_peek\u001b[0m\u001b[0;34m(\u001b[0m\u001b[0mself\u001b[0m\u001b[0;34m.\u001b[0m\u001b[0m_ssl\u001b[0m\u001b[0;34m,\u001b[0m \u001b[0mbuf\u001b[0m\u001b[0;34m,\u001b[0m \u001b[0mnbytes\u001b[0m\u001b[0;34m)\u001b[0m\u001b[0;34m\u001b[0m\u001b[0;34m\u001b[0m\u001b[0m\n\u001b[1;32m   1838\u001b[0m         \u001b[0;32melse\u001b[0m\u001b[0;34m:\u001b[0m\u001b[0;34m\u001b[0m\u001b[0;34m\u001b[0m\u001b[0m\n\u001b[0;32m-> 1839\u001b[0;31m             \u001b[0mresult\u001b[0m \u001b[0;34m=\u001b[0m \u001b[0m_lib\u001b[0m\u001b[0;34m.\u001b[0m\u001b[0mSSL_read\u001b[0m\u001b[0;34m(\u001b[0m\u001b[0mself\u001b[0m\u001b[0;34m.\u001b[0m\u001b[0m_ssl\u001b[0m\u001b[0;34m,\u001b[0m \u001b[0mbuf\u001b[0m\u001b[0;34m,\u001b[0m \u001b[0mnbytes\u001b[0m\u001b[0;34m)\u001b[0m\u001b[0;34m\u001b[0m\u001b[0;34m\u001b[0m\u001b[0m\n\u001b[0m\u001b[1;32m   1840\u001b[0m         \u001b[0mself\u001b[0m\u001b[0;34m.\u001b[0m\u001b[0m_raise_ssl_error\u001b[0m\u001b[0;34m(\u001b[0m\u001b[0mself\u001b[0m\u001b[0;34m.\u001b[0m\u001b[0m_ssl\u001b[0m\u001b[0;34m,\u001b[0m \u001b[0mresult\u001b[0m\u001b[0;34m)\u001b[0m\u001b[0;34m\u001b[0m\u001b[0;34m\u001b[0m\u001b[0m\n\u001b[1;32m   1841\u001b[0m \u001b[0;34m\u001b[0m\u001b[0m\n",
      "\u001b[0;31mKeyboardInterrupt\u001b[0m: "
     ]
    }
   ],
   "source": [
    "def save_img_video(results):\n",
    "    \"\"\"\n",
    "    下载图片\n",
    "    :param results:\n",
    "    :return:\n",
    "    \"\"\"\n",
    "    count = len(results)\n",
    "    path = 'data/'\n",
    "    idx = 0\n",
    "    for r_dict in results:\n",
    "        if 'pid' in r_dict:\n",
    "            name = r_dict.get(\"pid\") + \".jpg\"\n",
    "        elif 'vid' in r_dict:\n",
    "            name = r_dict.get(\"vid\") + \".mp4\"\n",
    "        else:\n",
    "            print(\"未知错误: \" + r_dict)\n",
    "            continue\n",
    "        try: \n",
    "            data = requests.get(r_dict.get(\"url\"))\n",
    "            with open(path + name, \"wb\") as file:\n",
    "                file.write(data.content)\n",
    "                file.close()\n",
    "                idx += 1\n",
    "        except Exception as e:\n",
    "            print(name+\"\\tdownload failed!\", r_dict)\n",
    "            continue\n",
    "#         process_bar(i/(count-1))\n",
    "    if count == idx:\n",
    "         print(\"all file download successed!\")\n",
    "save_img_video(data_list)"
   ]
  },
  {
   "cell_type": "code",
   "execution_count": 149,
   "metadata": {},
   "outputs": [
    {
     "name": "stdout",
     "output_type": "stream",
     "text": [
      "|\u001b[31m###\u001b[0m\u001b[31m###\u001b[0m\u001b[31m###\u001b[0m\u001b[31m###\u001b[0m\u001b[31m###\u001b[0m\u001b[31m###\u001b[0m\u001b[31m###\u001b[0m\u001b[31m###\u001b[0m\u001b[31m###\u001b[0m\u001b[31m###\u001b[0m 100.0%|100%"
     ]
    }
   ],
   "source": [
    "count = len(data_list)\n",
    "idx = 0\n",
    "for r_dict in data_list:\n",
    "    time.sleep(0.1)\n",
    "    process_bar(idx/(count-1))\n",
    "    idx += 1"
   ]
  },
  {
   "cell_type": "code",
   "execution_count": 83,
   "metadata": {},
   "outputs": [
    {
     "name": "stderr",
     "output_type": "stream",
     "text": [
      "/opt/anaconda3/lib/python3.7/site-packages/cryptography/hazmat/backends/openssl/x509.py:18: CryptographyDeprecationWarning: This version of cryptography contains a temporary pyOpenSSL fallback path. Upgrade pyOpenSSL now.\n",
      "  utils.DeprecatedIn35,\n"
     ]
    }
   ],
   "source": [
    "mp4_720p_mp4 = 'https://f.video.weibocdn.com/ET2YgH1Olx07NgWRPZcY0104120060cs0E010.mp4?label=mp4_720p&template=720x1280.24.0&trans_finger=c3f00996be5378650057cf237d7bfffd&ori=0&ps=1CwnkDw1GXwCQx&Expires=1635566474&ssig=vmgofrVxAM&KID=unistore,video'\n",
    "path = 'data/'\n",
    "img_data = requests.get(mp4_720p_mp4)\n",
    "with open(path + 'test.mp4', \"wb\") as file:\n",
    "    file.write(img_data.content)\n",
    "    file.close()"
   ]
  },
  {
   "cell_type": "code",
   "execution_count": null,
   "metadata": {},
   "outputs": [],
   "source": []
  }
 ],
 "metadata": {
  "kernelspec": {
   "display_name": "Python 3",
   "language": "python",
   "name": "python3"
  },
  "language_info": {
   "codemirror_mode": {
    "name": "ipython",
    "version": 3
   },
   "file_extension": ".py",
   "mimetype": "text/x-python",
   "name": "python",
   "nbconvert_exporter": "python",
   "pygments_lexer": "ipython3",
   "version": "3.7.6"
  }
 },
 "nbformat": 4,
 "nbformat_minor": 4
}
